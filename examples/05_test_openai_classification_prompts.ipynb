{
 "cells": [
  {
   "cell_type": "markdown",
   "id": "73d808a5-a4dd-4ec5-b4bc-438f1dd5596f",
   "metadata": {},
   "source": [
    "# OpenAI test classification prompts."
   ]
  },
  {
   "cell_type": "markdown",
   "id": "7ffd3703-20b9-46b6-8ad3-502ec27d2e49",
   "metadata": {},
   "source": [
    "In this notebook we are going to use the **Amazon Review Dataset** to test Promptmeteo in the sentiment analysis task"
   ]
  },
  {
   "cell_type": "markdown",
   "id": "dad1d69f-59bf-4f34-9000-46e5851d99f6",
   "metadata": {},
   "source": [
    "## 1. Data Preparation - EN - Build sentiment dataset."
   ]
  },
  {
   "cell_type": "markdown",
   "id": "7993f034-cdd6-4424-b6d1-5917b0638583",
   "metadata": {},
   "source": [
    "The dataset contains reviews from Amazon in English collected between November 1, 2015 and November 1, 2019. Each record in the dataset contains the review text, the review title, the star rating, an anonymized reviewer ID, an anonymized product ID and the coarse-grained product category (e.g. ‘books’, ‘appliances’, etc.). The corpus is balanced across stars, so each star rating constitutes 20% of the reviews in each language."
   ]
  },
  {
   "cell_type": "code",
   "execution_count": 1,
   "id": "d2c9f56c-4717-42a8-b9d4-cfcc20215f99",
   "metadata": {},
   "outputs": [
    {
     "data": {
      "text/html": [
       "<div><style>\n",
       ".dataframe > thead > tr,\n",
       ".dataframe > tbody > tr {\n",
       "  text-align: right;\n",
       "  white-space: pre-wrap;\n",
       "}\n",
       "</style>\n",
       "<small>shape: (5, 2)</small><table border=\"1\" class=\"dataframe\"><thead><tr><th>REVIEW</th><th>TARGET</th></tr><tr><td>str</td><td>str</td></tr></thead><tbody><tr><td>&quot;I reuse my Nes…</td><td>&quot;positive&quot;</td></tr><tr><td>&quot;Fits great kin…</td><td>&quot;positive&quot;</td></tr><tr><td>&quot;Movie freezes …</td><td>&quot;negative&quot;</td></tr><tr><td>&quot;This is my thi…</td><td>&quot;positive&quot;</td></tr><tr><td>&quot;For the money,…</td><td>&quot;neutral&quot;</td></tr></tbody></table></div>"
      ],
      "text/plain": [
       "shape: (5, 2)\n",
       "┌───────────────────────────────────┬──────────┐\n",
       "│ REVIEW                            ┆ TARGET   │\n",
       "│ ---                               ┆ ---      │\n",
       "│ str                               ┆ str      │\n",
       "╞═══════════════════════════════════╪══════════╡\n",
       "│ I reuse my Nespresso capsules an… ┆ positive │\n",
       "│ Fits great kinda expensive but i… ┆ positive │\n",
       "│ Movie freezes up. Can't watch it… ┆ negative │\n",
       "│ This is my third G-shock as I ha… ┆ positive │\n",
       "│ For the money, it's a good buy..… ┆ neutral  │\n",
       "└───────────────────────────────────┴──────────┘"
      ]
     },
     "execution_count": 1,
     "metadata": {},
     "output_type": "execute_result"
    }
   ],
   "source": [
    "import polars as pl\n",
    "import sys; sys.path.append('..')\n",
    "\n",
    "data = pl.read_parquet('../data/amazon_reviews_en/amazon_reviews_multi-test.parquet')\n",
    "sql = pl.SQLContext()\n",
    "sql.register('data', data)\n",
    "\n",
    "sentiment_data = sql.execute(\"\"\"\n",
    "    SELECT\n",
    "        review_body as REVIEW,\n",
    "        CASE\n",
    "            WHEN stars=1 THEN 'negative'\n",
    "            WHEN stars=3 THEN 'neutral'\n",
    "            WHEN stars=5 THEN 'positive'\n",
    "            ELSE null\n",
    "        END AS TARGET,\n",
    "    FROM data\n",
    "    WHERE stars!=2 AND stars!=4;\n",
    "    \"\"\").collect().sample(fraction=1.0, shuffle=True, seed=0)\n",
    "\n",
    "train_reviews = sentiment_data.head(100).select('REVIEW').to_series().to_list()\n",
    "train_targets = sentiment_data.head(100).select('TARGET').to_series().to_list()\n",
    "\n",
    "test_reviews = sentiment_data.tail(100).select('REVIEW').to_series().to_list()\n",
    "test_targets = sentiment_data.tail(100).select('TARGET').to_series().to_list()\n",
    "\n",
    "sentiment_data.head()"
   ]
  },
  {
   "cell_type": "code",
   "execution_count": 2,
   "id": "4baccad9-20fd-48a6-adb4-d75d2335a3ac",
   "metadata": {},
   "outputs": [],
   "source": [
    "token = ''"
   ]
  },
  {
   "cell_type": "markdown",
   "id": "34b211cc-0fcf-47a9-ad80-edd70577648b",
   "metadata": {},
   "source": [
    "&nbsp;\n"
   ]
  },
  {
   "cell_type": "markdown",
   "id": "6f43c63d-b523-418b-bee8-6faf65186e61",
   "metadata": {},
   "source": [
    "&nbsp;\n"
   ]
  },
  {
   "cell_type": "markdown",
   "id": "37078106-46f9-4f2b-8719-199fef2aad51",
   "metadata": {},
   "source": [
    "&nbsp;\n"
   ]
  },
  {
   "cell_type": "markdown",
   "id": "51e6344e-549f-4c33-8ba9-6256e47c2c09",
   "metadata": {},
   "source": [
    "## 2. EN - Sin entrenamiento"
   ]
  },
  {
   "cell_type": "markdown",
   "id": "9153b637-b41b-42a0-8cb5-2f7d273ee842",
   "metadata": {},
   "source": [
    "### Prueba 1"
   ]
  },
  {
   "cell_type": "code",
   "execution_count": 3,
   "id": "b491bbff-68ae-4265-a08a-56108ed94fdb",
   "metadata": {},
   "outputs": [
    {
     "data": {
      "text/plain": [
       "<Axes: >"
      ]
     },
     "execution_count": 3,
     "metadata": {},
     "output_type": "execute_result"
    },
    {
     "data": {
      "image/png": "[encoded data removed]",
      "text/plain": [
       "<Figure size 640x480 with 2 Axes>"
      ]
     },
     "metadata": {},
     "output_type": "display_data"
    }
   ],
   "source": [
    "import seaborn as sns\n",
    "from sklearn.metrics import confusion_matrix\n",
    "from promptmeteo import DocumentClassifier\n",
    "\n",
    "model = DocumentClassifier(\n",
    "    language             = 'en',\n",
    "    model_name           = 'gpt-3.5-turbo-instruct',\n",
    "    model_provider_name  = 'openai',\n",
    "    model_provider_token = token,\n",
    "    prompt_domain        = 'product reviews',\n",
    "    prompt_labels        = ['positive','negative','neutral'],\n",
    "    selector_k           = 0,\n",
    ")\n",
    "\n",
    "pred_targets = model.predict(test_reviews)\n",
    "pred_targets = [pred if len(pred)==1 else [''] for pred in pred_targets]\n",
    "\n",
    "sns.heatmap(\n",
    "    confusion_matrix(test_targets, pred_targets),\n",
    "    annot=True,\n",
    "    cmap='Blues')"
   ]
  },
  {
   "cell_type": "markdown",
   "id": "76722bfe-f1b9-47fe-9f87-2bc9f97062ca",
   "metadata": {},
   "source": [
    "### Prueba 2"
   ]
  },
  {
   "cell_type": "code",
   "execution_count": 4,
   "id": "349e834b-a836-4093-b705-210ccc618c90",
   "metadata": {},
   "outputs": [],
   "source": [
    "prompt='''\n",
    "TEMPLATE:\n",
    "    \"I need you to help me with a text classification task.\n",
    "    {__PROMPT_DOMAIN__}\n",
    "    {__PROMPT_LABELS__}\n",
    "\n",
    "    {__CHAIN_THOUGHT__}\n",
    "    {__ANSWER_FORMAT__}\"\n",
    "\n",
    "\n",
    "PROMPT_DOMAIN:\n",
    "    \"The texts you will be processing are from the {__DOMAIN__} domain.\"\n",
    "\n",
    "\n",
    "PROMPT_LABELS:\n",
    "    \"I want you to classify the texts into one of the following categories:\n",
    "    {__LABELS__}.\"\n",
    "\n",
    "\n",
    "PROMPT_DETAIL:\n",
    "    \"\"\n",
    "\n",
    "\n",
    "CHAIN_THOUGHT:\n",
    "    \"Think step by step you answer.\"\n",
    "\n",
    "\n",
    "ANSWER_FORMAT:\n",
    "    \"In your response, include only the name of the class predicted.\"\n",
    "'''"
   ]
  },
  {
   "cell_type": "code",
   "execution_count": 5,
   "id": "988735fe-a05b-4c01-a4a4-4c262f28add1",
   "metadata": {},
   "outputs": [
    {
     "data": {
      "text/plain": [
       "<Axes: >"
      ]
     },
     "execution_count": 5,
     "metadata": {},
     "output_type": "execute_result"
    },
    {
     "data": {
      "image/png": "[encoded data removed]",
      "text/plain": [
       "<Figure size 640x480 with 2 Axes>"
      ]
     },
     "metadata": {},
     "output_type": "display_data"
    }
   ],
   "source": [
    "import seaborn as sns\n",
    "from sklearn.metrics import confusion_matrix\n",
    "from promptmeteo import DocumentClassifier\n",
    "\n",
    "model = DocumentClassifier(\n",
    "    language             = 'en',\n",
    "    model_name           = 'gpt-3.5-turbo-instruct',\n",
    "    model_provider_name  = 'openai',\n",
    "    model_provider_token = token,\n",
    "    prompt_domain        = 'product reviews',\n",
    "    prompt_labels        = ['positive','negative','neutral'],\n",
    "    selector_k           = 0,\n",
    ")\n",
    "\n",
    "model.task.prompt.read_prompt(prompt)\n",
    "\n",
    "pred_targets = model.predict(test_reviews)\n",
    "\n",
    "sns.heatmap(\n",
    "    confusion_matrix(test_targets, [i[0] for i in pred_targets]),\n",
    "    annot=True,\n",
    "    cmap='Blues')"
   ]
  },
  {
   "cell_type": "markdown",
   "id": "c703c30f-d696-4379-84a3-c536a6d7f565",
   "metadata": {},
   "source": [
    "## 3. EN - Con entrenamiento"
   ]
  },
  {
   "cell_type": "markdown",
   "id": "71ce3032-eaa0-4ba9-b7ff-2f455f57a66f",
   "metadata": {},
   "source": [
    "### Prueba 1"
   ]
  },
  {
   "cell_type": "code",
   "execution_count": 6,
   "id": "ef488d68-63b3-4f15-8e4c-d56633ddb147",
   "metadata": {},
   "outputs": [],
   "source": [
    "prompt='''\n",
    "TEMPLATE:\n",
    "    \"I need you to help me with a text classification task.\n",
    "    {__PROMPT_DOMAIN__}\n",
    "    {__PROMPT_LABELS__}\n",
    "\n",
    "    {__SHOT_EXAMPLES__}\n",
    "\n",
    "    {__CHAIN_THOUGHT__}\n",
    "    {__ANSWER_FORMAT__}\"\n",
    "\n",
    "\n",
    "PROMPT_DOMAIN:\n",
    "    \"The texts you will be processing are from the {__DOMAIN__} domain.\"\n",
    "\n",
    "\n",
    "PROMPT_LABELS:\n",
    "    \"I want you to classify the texts into one of the following categories:\n",
    "    {__LABELS__}.\"\n",
    "\n",
    "\n",
    "SHOT_EXAMPLES:\n",
    "\n",
    "    \"{__EXAMPLES__}\"\n",
    "\n",
    "\n",
    "PROMPT_DETAIL:\n",
    "    \"\"\n",
    "\n",
    "\n",
    "CHAIN_THOUGHT:\n",
    "    \"Please provide a step-by-step argument for your answer, explain why you\n",
    "    believe your final choice is justified, and make sure to conclude your\n",
    "    explanation with the name of the class you have selected as the correct\n",
    "    one, in lowercase and without punctuation.\"\n",
    "\n",
    "\n",
    "ANSWER_FORMAT:\n",
    "    \"In your response, include only the name of the class as a single word, in\n",
    "    lowercase, without punctuation, and without adding any other statements or\n",
    "    words.\"\n",
    "'''"
   ]
  },
  {
   "cell_type": "code",
   "execution_count": 7,
   "id": "172c20d7-cecb-44ef-9fff-82d075b1d53f",
   "metadata": {},
   "outputs": [
    {
     "data": {
      "text/plain": [
       "<Axes: >"
      ]
     },
     "execution_count": 7,
     "metadata": {},
     "output_type": "execute_result"
    },
    {
     "data": {
      "image/png": "[encoded data removed]",
      "text/plain": [
       "<Figure size 640x480 with 2 Axes>"
      ]
     },
     "metadata": {},
     "output_type": "display_data"
    }
   ],
   "source": [
    "import seaborn as sns\n",
    "from sklearn.metrics import confusion_matrix\n",
    "from promptmeteo import DocumentClassifier\n",
    "\n",
    "model = DocumentClassifier(\n",
    "    language             = 'en',\n",
    "    model_name           = 'gpt-3.5-turbo-instruct',\n",
    "    model_provider_name  = 'openai',\n",
    "    model_provider_token = token,\n",
    "    selector_k           = 10,\n",
    ")\n",
    "\n",
    "model.task.prompt.read_prompt(prompt)\n",
    "\n",
    "model.train(\n",
    "    examples = train_reviews,\n",
    "    annotations = train_targets\n",
    ")\n",
    "\n",
    "pred_targets = model.predict(test_reviews)\n",
    "\n",
    "sns.heatmap(\n",
    "    confusion_matrix(test_targets, [i[0] for i in pred_targets]),\n",
    "    annot=True,\n",
    "    cmap='Blues')"
   ]
  },
  {
   "cell_type": "markdown",
   "id": "5e9681b2-c628-4a3f-968d-c5cbecc298ec",
   "metadata": {},
   "source": [
    "### Prueba 2"
   ]
  },
  {
   "cell_type": "code",
   "execution_count": 8,
   "id": "9def17bf-b9fc-4afd-af9a-fdeef0c974aa",
   "metadata": {},
   "outputs": [],
   "source": [
    "prompt='''\n",
    "TEMPLATE:\n",
    "    \"I need you to help me with a text classification task.\n",
    "    {__PROMPT_DOMAIN__}\n",
    "    {__PROMPT_LABELS__}\n",
    "\n",
    "    {__CHAIN_THOUGHT__}\n",
    "    {__ANSWER_FORMAT__}\"\n",
    "\n",
    "\n",
    "PROMPT_DOMAIN:\n",
    "    \"The texts you will be processing are from the {__DOMAIN__} domain.\"\n",
    "\n",
    "\n",
    "PROMPT_LABELS:\n",
    "    \"I want you to classify the texts into one of the following categories:\n",
    "    {__LABELS__}.\"\n",
    "\n",
    "\n",
    "PROMPT_DETAIL:\n",
    "    \"\"\n",
    "\n",
    "\n",
    "CHAIN_THOUGHT:\n",
    "    \"Think step by step you answer.\"\n",
    "\n",
    "\n",
    "ANSWER_FORMAT:\n",
    "    \"In your response, include only the name of the class predicted.\"\n",
    "'''"
   ]
  },
  {
   "cell_type": "code",
   "execution_count": 9,
   "id": "0c198bff-2112-4141-a528-3d97c9d16a33",
   "metadata": {},
   "outputs": [
    {
     "data": {
      "text/plain": [
       "<Axes: >"
      ]
     },
     "execution_count": 9,
     "metadata": {},
     "output_type": "execute_result"
    },
    {
     "data": {
      "image/png": "[encoded data removed]",
      "text/plain": [
       "<Figure size 640x480 with 2 Axes>"
      ]
     },
     "metadata": {},
     "output_type": "display_data"
    }
   ],
   "source": [
    "import seaborn as sns\n",
    "from sklearn.metrics import confusion_matrix\n",
    "from promptmeteo import DocumentClassifier\n",
    "\n",
    "model = DocumentClassifier(\n",
    "    language             = 'en',\n",
    "    model_name           = 'gpt-3.5-turbo-instruct',\n",
    "    model_provider_name  = 'openai',\n",
    "    model_provider_token = token,\n",
    "    prompt_domain        = 'product reviews',\n",
    "    prompt_labels        = ['positive','negative','neutral'],\n",
    "    selector_k           = 20,\n",
    ")\n",
    "\n",
    "model.task.prompt.read_prompt(prompt)\n",
    "\n",
    "model.train(\n",
    "    examples = train_reviews,\n",
    "    annotations = train_targets,\n",
    ")\n",
    "\n",
    "pred_targets = model.predict(test_reviews)\n",
    "\n",
    "sns.heatmap(\n",
    "    confusion_matrix(test_targets, [i[0] for i in pred_targets]),\n",
    "    annot=True,\n",
    "    cmap='Blues')"
   ]
  },
  {
   "cell_type": "markdown",
   "id": "1d69e21c-d1d9-4897-a6df-ec5ef43fe4d0",
   "metadata": {},
   "source": [
    "&nbsp;\n"
   ]
  },
  {
   "cell_type": "code",
   "execution_count": null,
   "id": "dd55f1c6-ac6e-447f-b291-1d0ac50e9048",
   "metadata": {},
   "outputs": [],
   "source": []
  },
  {
   "cell_type": "markdown",
   "id": "0d24dafd-c16a-40f6-8537-69ff06a1b34d",
   "metadata": {},
   "source": [
    "### Prueba 3"
   ]
  },
  {
   "cell_type": "code",
   "execution_count": 10,
   "id": "f0bab4a5-da98-4362-9f52-c3f5ca534ccd",
   "metadata": {},
   "outputs": [],
   "source": [
    "prompt='''\n",
    "TEMPLATE:\n",
    "    \"I need you to help me with a text classification task.\n",
    "    {__PROMPT_DOMAIN__}\n",
    "    {__PROMPT_LABELS__}\n",
    "\n",
    "    {__CHAIN_THOUGHT__}\n",
    "    {__ANSWER_FORMAT__}\"\n",
    "\n",
    "PROMPT_DOMAIN:\n",
    "    \"\"\n",
    "\n",
    "PROMPT_LABELS:\n",
    "    \"\"\n",
    "\n",
    "PROMPT_DETAIL:\n",
    "    \"\"\n",
    "\n",
    "CHAIN_THOUGHT:\n",
    "    \"\"\n",
    "\n",
    "ANSWER_FORMAT:\n",
    "    \"\"\n",
    "'''"
   ]
  },
  {
   "cell_type": "code",
   "execution_count": 11,
   "id": "c0cf795a-4563-4f6b-a970-20c47eca9870",
   "metadata": {},
   "outputs": [
    {
     "data": {
      "text/plain": [
       "<Axes: >"
      ]
     },
     "execution_count": 11,
     "metadata": {},
     "output_type": "execute_result"
    },
    {
     "data": {
      "image/png": "[encoded data removed]",
      "text/plain": [
       "<Figure size 640x480 with 2 Axes>"
      ]
     },
     "metadata": {},
     "output_type": "display_data"
    }
   ],
   "source": [
    "import seaborn as sns\n",
    "from sklearn.metrics import confusion_matrix\n",
    "from promptmeteo import DocumentClassifier\n",
    "\n",
    "model = DocumentClassifier(\n",
    "    language             = 'en',\n",
    "    model_name           = 'gpt-3.5-turbo-instruct',\n",
    "    model_provider_name  = 'openai',\n",
    "    model_provider_token = token,\n",
    "    selector_k           = 20,\n",
    ")\n",
    "\n",
    "model.task.prompt.read_prompt(prompt)\n",
    "\n",
    "model.train(\n",
    "    examples = train_reviews,\n",
    "    annotations = train_targets,\n",
    ")\n",
    "\n",
    "pred_targets = model.predict(test_reviews)\n",
    "\n",
    "sns.heatmap(\n",
    "    confusion_matrix(test_targets, [i[0] for i in pred_targets]),\n",
    "    annot=True,\n",
    "    cmap='Blues')"
   ]
  },
  {
   "cell_type": "markdown",
   "id": "ea111fd4-6640-4631-b6ed-897fa95d10e2",
   "metadata": {},
   "source": [
    "&nbsp;\n"
   ]
  },
  {
   "cell_type": "markdown",
   "id": "b9993ba0-7b7b-44d5-b89b-d399ce4d9649",
   "metadata": {},
   "source": [
    "&nbsp;\n"
   ]
  },
  {
   "cell_type": "markdown",
   "id": "194182f1-0296-4d51-8d5a-aa736d722406",
   "metadata": {},
   "source": [
    "## 4. Data Preparation - SP - Build sentiment dataset."
   ]
  },
  {
   "cell_type": "code",
   "execution_count": 3,
   "id": "0b3ff622-fdb4-49da-ace2-c9e2a1cffcfb",
   "metadata": {},
   "outputs": [
    {
     "data": {
      "text/html": [
       "<div><style>\n",
       ".dataframe > thead > tr,\n",
       ".dataframe > tbody > tr {\n",
       "  text-align: right;\n",
       "  white-space: pre-wrap;\n",
       "}\n",
       "</style>\n",
       "<small>shape: (5, 2)</small><table border=\"1\" class=\"dataframe\"><thead><tr><th>REVIEW</th><th>TARGET</th></tr><tr><td>str</td><td>str</td></tr></thead><tbody><tr><td>&quot;El filtro de d…</td><td>&quot;positive&quot;</td></tr><tr><td>&quot;Un poquito esc…</td><td>&quot;positive&quot;</td></tr><tr><td>&quot;Para qué decir…</td><td>&quot;negative&quot;</td></tr><tr><td>&quot;Mi hija esta e…</td><td>&quot;positive&quot;</td></tr><tr><td>&quot;Se podría mejo…</td><td>&quot;neutral&quot;</td></tr></tbody></table></div>"
      ],
      "text/plain": [
       "shape: (5, 2)\n",
       "┌───────────────────────────────────┬──────────┐\n",
       "│ REVIEW                            ┆ TARGET   │\n",
       "│ ---                               ┆ ---      │\n",
       "│ str                               ┆ str      │\n",
       "╞═══════════════════════════════════╪══════════╡\n",
       "│ El filtro de de aire es como si … ┆ positive │\n",
       "│ Un poquito escaso pero funciona … ┆ positive │\n",
       "│ Para qué decir más...             ┆ negative │\n",
       "│ Mi hija esta en un campamento y … ┆ positive │\n",
       "│ Se podría mejorar el ajuste del … ┆ neutral  │\n",
       "└───────────────────────────────────┴──────────┘"
      ]
     },
     "execution_count": 3,
     "metadata": {},
     "output_type": "execute_result"
    }
   ],
   "source": [
    "import polars as pl\n",
    "\n",
    "data = pl.read_parquet('../data/amazon_reviews_sp/amazon_reviews_multi-test.parquet')\n",
    "data.head()\n",
    "\n",
    "sql = pl.SQLContext()\n",
    "sql.register('data', data)\n",
    "\n",
    "sentiment_data = sql.execute(\"\"\"\n",
    "    SELECT\n",
    "        review_body as REVIEW,\n",
    "        CASE\n",
    "            WHEN stars=1 THEN 'negative'\n",
    "            WHEN stars=3 THEN 'neutral'\n",
    "            WHEN stars=5 THEN 'positive'\n",
    "            ELSE null\n",
    "        END AS TARGET,\n",
    "    FROM data\n",
    "    WHERE stars!=2 AND stars!=4;\n",
    "    \"\"\").collect().sample(fraction=1.0, shuffle=True, seed=0)\n",
    "/\n",
    "train_reviews = sentiment_data.head(100).select('REVIEW').to_series().to_list()\n",
    "train_targets = sentiment_data.head(100).select('TARGET').to_series().to_list()\n",
    "\n",
    "test_reviews = sentiment_data.tail(100).select('REVIEW').to_series().to_list()\n",
    "test_targets = sentiment_data.tail(100).select('TARGET').to_series().to_list()\n",
    "\n",
    "sentiment_data.head()"
   ]
  },
  {
   "cell_type": "markdown",
   "id": "cdfdb171-0391-4e3e-beca-072d56267948",
   "metadata": {},
   "source": [
    "&nbsp;\n"
   ]
  },
  {
   "cell_type": "markdown",
   "id": "d4d2b731-7d7c-4217-9a51-47e6689bbe7f",
   "metadata": {},
   "source": [
    "&nbsp;\n"
   ]
  },
  {
   "cell_type": "markdown",
   "id": "de2d1b15-01fd-4c98-8c92-29256d242cac",
   "metadata": {},
   "source": [
    "&nbsp;\n"
   ]
  },
  {
   "cell_type": "markdown",
   "id": "8d322711-2b28-442e-8c19-108c3a083a50",
   "metadata": {},
   "source": [
    "## 5 SP - Sin Entrenamiento"
   ]
  },
  {
   "cell_type": "markdown",
   "id": "0cf9f12a-1a9b-4732-8d2c-59c9ed52f8a2",
   "metadata": {},
   "source": [
    "### Prueba 1"
   ]
  },
  {
   "cell_type": "code",
   "execution_count": 4,
   "id": "0abdc935-3926-461c-9e45-ab90374a5fdb",
   "metadata": {},
   "outputs": [],
   "source": [
    "prompt='''\n",
    "TEMPLATE:\n",
    "    \"Necesito que me ayudes en una tarea de clasificación de texto.\n",
    "    {__PROMPT_DOMAIN__}\n",
    "    {__PROMPT_LABELS__}\n",
    "\n",
    "    {__CHAIN_THOUGHT__}\n",
    "    {__ANSWER_FORMAT__}\"\n",
    "\n",
    "\n",
    "PROMPT_DOMAIN:\n",
    "    \"Los textos que vas procesar del ambito de {__DOMAIN__}.\"\n",
    "\n",
    "\n",
    "PROMPT_LABELS:\n",
    "    \"Quiero que me clasifiques los textos una de las siguientes categorías:\n",
    "    {__LABELS__}.\"\n",
    "\n",
    "\n",
    "PROMPT_DETAIL:\n",
    "    \"\"\n",
    "\n",
    "\n",
    "CHAIN_THOUGHT:\n",
    "    \"Por favor argumenta tu respuesta paso a paso, explica por qué crees que\n",
    "    está justificada tu elección final, y asegúrate de que acabas tu\n",
    "    explicación con el nombre de la clase que has escogido como la\n",
    "    correcta, en minúscula y sin puntuación.\"\n",
    "\n",
    "\n",
    "ANSWER_FORMAT:\n",
    "    \"En tu respuesta incluye sólo el nombre de la clase, como una única\n",
    "    palabra, en minúscula, sin puntuación, y sin añadir ninguna otra\n",
    "    afirmación o palabra.\"\n",
    "'''"
   ]
  },
  {
   "cell_type": "code",
   "execution_count": 5,
   "id": "9d88b784-746a-45d3-83b6-67c1f09a878a",
   "metadata": {},
   "outputs": [
    {
     "data": {
      "text/plain": [
       "<Axes: >"
      ]
     },
     "execution_count": 5,
     "metadata": {},
     "output_type": "execute_result"
    },
    {
     "data": {
      "image/png": "[encoded data removed]",
      "text/plain": [
       "<Figure size 640x480 with 2 Axes>"
      ]
     },
     "metadata": {},
     "output_type": "display_data"
    }
   ],
   "source": [
    "import seaborn as sns\n",
    "from sklearn.metrics import confusion_matrix\n",
    "from promptmeteo import DocumentClassifier\n",
    "\n",
    "model = DocumentClassifier(\n",
    "    language             = 'es',\n",
    "    model_name           = 'gpt-3.5-turbo-instruct',\n",
    "    model_provider_name  = 'openai',\n",
    "    model_provider_token = token,\n",
    "    prompt_domain        = 'opiniones de productos',\n",
    "    prompt_labels        = ['positiva','negativa','neutral'],\n",
    "    selector_k           = 0,\n",
    ")\n",
    "\n",
    "model.task.prompt.read_prompt(prompt)\n",
    "\n",
    "pred_targets = model.predict(test_reviews)\n",
    "pred_targets = [pred if len(pred)==1 else [''] for pred in pred_targets]\n",
    "\n",
    "sns.heatmap(\n",
    "    confusion_matrix(test_targets, pred_targets),\n",
    "    annot=True,\n",
    "    cmap='Blues')"
   ]
  },
  {
   "cell_type": "markdown",
   "id": "e55bc005-7447-48f1-967a-6f1ae76f37bb",
   "metadata": {},
   "source": [
    "### Prueba 2"
   ]
  },
  {
   "cell_type": "code",
   "execution_count": 6,
   "id": "9ae93a75-bddc-410b-bc29-4019a928ddae",
   "metadata": {},
   "outputs": [],
   "source": [
    "prompt='''\n",
    "TEMPLATE:\n",
    "    \"Necesito que me ayudes en una tarea de clasificación de texto.\n",
    "    {__PROMPT_DOMAIN__}\n",
    "    {__PROMPT_LABELS__}\n",
    "\n",
    "    {__CHAIN_THOUGHT__}\n",
    "    {__ANSWER_FORMAT__}\"\n",
    "\n",
    "\n",
    "PROMPT_DOMAIN:\n",
    "    \"Los textos que vas procesar del ambito de {__DOMAIN__}.\"\n",
    "\n",
    "\n",
    "PROMPT_LABELS:\n",
    "    \"Quiero que me clasifiques los textos una de las siguientes categorías:\n",
    "    {__LABELS__}.\"\n",
    "\n",
    "\n",
    "PROMPT_DETAIL:\n",
    "    \"\"\n",
    "\n",
    "\n",
    "CHAIN_THOUGHT:\n",
    "    \"Argumenta tu respuesta paso a paso.\"\n",
    "\n",
    "\n",
    "ANSWER_FORMAT:\n",
    "    \"En tu respuesta incluye sólo el nombre de la clase, como una única\n",
    "    respuesta\"\n",
    "'''"
   ]
  },
  {
   "cell_type": "code",
   "execution_count": 7,
   "id": "20ee64ed-cfb9-4fd8-ae5f-9bdf1fddf5a3",
   "metadata": {},
   "outputs": [
    {
     "data": {
      "text/plain": [
       "<Axes: >"
      ]
     },
     "execution_count": 7,
     "metadata": {},
     "output_type": "execute_result"
    },
    {
     "data": {
      "image/png": "[encoded data removed]",
      "text/plain": [
       "<Figure size 640x480 with 2 Axes>"
      ]
     },
     "metadata": {},
     "output_type": "display_data"
    }
   ],
   "source": [
    "import seaborn as sns\n",
    "from sklearn.metrics import confusion_matrix\n",
    "from promptmeteo import DocumentClassifier\n",
    "\n",
    "model = DocumentClassifier(\n",
    "    language             = 'es',\n",
    "    model_name           = 'gpt-3.5-turbo-instruct',\n",
    "    model_provider_name  = 'openai',\n",
    "    model_provider_token = token,\n",
    "    prompt_domain        = 'opiniones de productos',\n",
    "    prompt_labels        = ['positiva','negativa','neutra'],\n",
    "    selector_k           = 0,\n",
    ")\n",
    "\n",
    "model.task.prompt.read_prompt(prompt)\n",
    "\n",
    "pred_targets = model.predict(test_reviews)\n",
    "\n",
    "sns.heatmap(\n",
    "    confusion_matrix(test_targets, [i[0] for i in pred_targets]),\n",
    "    annot=True,\n",
    "    cmap='Blues')"
   ]
  },
  {
   "cell_type": "markdown",
   "id": "cf2744f0-ea90-4873-92bc-8d44c52621e1",
   "metadata": {},
   "source": [
    "### Prueba 3"
   ]
  },
  {
   "cell_type": "code",
   "execution_count": 8,
   "id": "db7ab35e-0714-4308-b24d-69f08ca13900",
   "metadata": {},
   "outputs": [],
   "source": [
    "prompt='''\n",
    "TEMPLATE:\n",
    "    \"Necesito que me ayudes en una tarea de clasificación de texto.\n",
    "    {__PROMPT_DOMAIN__}\n",
    "    {__PROMPT_LABELS__}\n",
    "\n",
    "    {__CHAIN_THOUGHT__}\n",
    "    {__ANSWER_FORMAT__}\"\n",
    "\n",
    "\n",
    "PROMPT_DOMAIN:\n",
    "    \"\"\n",
    "\n",
    "\n",
    "PROMPT_LABELS:\n",
    "    \"Quiero que me clasifiques los textos una de las siguientes categorías:\n",
    "    {__LABELS__}.\"\n",
    "\n",
    "\n",
    "PROMPT_DETAIL:\n",
    "    \"\"\n",
    "\n",
    "\n",
    "CHAIN_THOUGHT:\n",
    "    \"\"\n",
    "\n",
    "\n",
    "ANSWER_FORMAT:\n",
    "    \"\"\n",
    "'''"
   ]
  },
  {
   "cell_type": "code",
   "execution_count": 9,
   "id": "32f5bd08-c05a-4f33-8564-35e0eba3dfb5",
   "metadata": {},
   "outputs": [
    {
     "data": {
      "text/plain": [
       "<Axes: >"
      ]
     },
     "execution_count": 9,
     "metadata": {},
     "output_type": "execute_result"
    },
    {
     "data": {
      "image/png": "[encoded data removed]",
      "text/plain": [
       "<Figure size 640x480 with 2 Axes>"
      ]
     },
     "metadata": {},
     "output_type": "display_data"
    }
   ],
   "source": [
    "import seaborn as sns\n",
    "from sklearn.metrics import confusion_matrix\n",
    "from promptmeteo import DocumentClassifier\n",
    "\n",
    "model = DocumentClassifier(\n",
    "    language             = 'es',\n",
    "    model_name           = 'gpt-3.5-turbo-instruct',\n",
    "    model_provider_name  = 'openai',\n",
    "    model_provider_token = token,\n",
    "    prompt_domain        = 'opiniones de productos',\n",
    "    prompt_labels        = ['positiva','negativa','neutra'],\n",
    "    selector_k           = 0,\n",
    ")\n",
    "\n",
    "model.task.prompt.read_prompt(prompt)\n",
    "\n",
    "pred_targets = model.predict(test_reviews)\n",
    "pred_targets = [pred if len(pred)==1 else [''] for pred in pred_targets]\n",
    "\n",
    "sns.heatmap(\n",
    "    confusion_matrix(test_targets, pred_targets),\n",
    "    annot=True,\n",
    "    cmap='Blues')"
   ]
  },
  {
   "cell_type": "markdown",
   "id": "504d176d-7402-44ab-8a64-acfcfc6c6459",
   "metadata": {},
   "source": [
    "## ES - Con entrenamiento"
   ]
  },
  {
   "cell_type": "markdown",
   "id": "f62c3cd5-0724-46ac-99af-9e10de663976",
   "metadata": {},
   "source": [
    "### Prueba 1"
   ]
  },
  {
   "cell_type": "code",
   "execution_count": 10,
   "id": "b4f26ab8-ab4f-4631-bcf9-ea48fa670171",
   "metadata": {},
   "outputs": [],
   "source": [
    "prompt='''\n",
    "TEMPLATE:\n",
    "    \"Necesito que me ayudes en una tarea de clasificación de texto.\n",
    "    {__PROMPT_DOMAIN__}\n",
    "    {__PROMPT_LABELS__}\n",
    "\n",
    "    {__CHAIN_THOUGHT__}\n",
    "    {__ANSWER_FORMAT__}\"\n",
    "\n",
    "\n",
    "PROMPT_DOMAIN:\n",
    "    \"Los textos que vas procesar del ambito de {__DOMAIN__}.\"\n",
    "\n",
    "\n",
    "PROMPT_LABELS:\n",
    "    \"Quiero que me clasifiques los textos una de las siguientes categorías:\n",
    "    {__LABELS__}.\"\n",
    "\n",
    "\n",
    "PROMPT_DETAIL:\n",
    "    \"\"\n",
    "\n",
    "\n",
    "CHAIN_THOUGHT:\n",
    "    \"Por favor argumenta tu respuesta paso a paso, explica por qué crees que\n",
    "    está justificada tu elección final, y asegúrate de que acabas tu\n",
    "    explicación con el nombre de la clase que has escogido como la\n",
    "    correcta, en minúscula y sin puntuación.\"\n",
    "\n",
    "\n",
    "ANSWER_FORMAT:\n",
    "    \"En tu respuesta incluye sólo el nombre de la clase, como una única\n",
    "    palabra, en minúscula, sin puntuación, y sin añadir ninguna otra\n",
    "    afirmación o palabra.\"\n",
    "'''"
   ]
  },
  {
   "cell_type": "code",
   "execution_count": 11,
   "id": "1495f569-7656-4567-be30-75b7aedb401e",
   "metadata": {},
   "outputs": [
    {
     "data": {
      "text/plain": [
       "<Axes: >"
      ]
     },
     "execution_count": 11,
     "metadata": {},
     "output_type": "execute_result"
    },
    {
     "data": {
      "image/png": "[encoded data removed]",
      "text/plain": [
       "<Figure size 640x480 with 2 Axes>"
      ]
     },
     "metadata": {},
     "output_type": "display_data"
    }
   ],
   "source": [
    "import seaborn as sns\n",
    "from sklearn.metrics import confusion_matrix\n",
    "from promptmeteo import DocumentClassifier\n",
    "\n",
    "model = DocumentClassifier(\n",
    "    language             = 'es',\n",
    "    model_name           = 'gpt-3.5-turbo-instruct',\n",
    "    model_provider_name  = 'openai',\n",
    "    model_provider_token = token,\n",
    "    prompt_domain        = 'opiniones de productos',\n",
    "    prompt_labels        = ['positive','negative','neutral'],\n",
    "    selector_k           = 10,\n",
    ")\n",
    "\n",
    "model.task.prompt.read_prompt(prompt)\n",
    "\n",
    "model.train(\n",
    "    examples = train_reviews,\n",
    "    annotations = train_targets,\n",
    ")\n",
    "\n",
    "pred_targets = model.predict(test_reviews)\n",
    "pred_targets = [pred if len(pred)==1 else [''] for pred in pred_targets]\n",
    "\n",
    "sns.heatmap(\n",
    "    confusion_matrix(test_targets, pred_targets),\n",
    "    annot=True,\n",
    "    cmap='Blues')"
   ]
  },
  {
   "cell_type": "markdown",
   "id": "8006de83-a826-478c-bee7-6bf38d0fa23a",
   "metadata": {},
   "source": [
    "### Prueba 2"
   ]
  },
  {
   "cell_type": "code",
   "execution_count": 24,
   "id": "e2ed16b3-fe75-48e0-9ee5-801aefa95143",
   "metadata": {},
   "outputs": [],
   "source": [
    "prompt='''\n",
    "TEMPLATE:\n",
    "    \"Necesito que me ayudes en una tarea de clasificación de texto.\n",
    "    {__PROMPT_DOMAIN__}\n",
    "    {__PROMPT_LABELS__}\n",
    "\n",
    "    {__CHAIN_THOUGHT__}\n",
    "    {__ANSWER_FORMAT__}\"\n",
    "\n",
    "\n",
    "PROMPT_DOMAIN:\n",
    "    \"Los textos que vas procesar del ambito de {__DOMAIN__}.\"\n",
    "\n",
    "\n",
    "PROMPT_LABELS:\n",
    "    \"Quiero que me clasifiques los textos una de las siguientes categorías:\n",
    "    {__LABELS__}.\"\n",
    "\n",
    "\n",
    "PROMPT_DETAIL:\n",
    "    \"\"\n",
    "\n",
    "\n",
    "CHAIN_THOUGHT:\n",
    "    \"Argumenta tu respuesta paso a paso.\"\n",
    "\n",
    "\n",
    "ANSWER_FORMAT:\n",
    "    \"En tu respuesta incluye sólo el nombre de la clase, como una única\n",
    "    respuesta\"\n",
    "'''"
   ]
  },
  {
   "cell_type": "code",
   "execution_count": null,
   "id": "80360efc-af76-4d15-b935-586a79e33abc",
   "metadata": {},
   "outputs": [],
   "source": [
    "import seaborn as sns\n",
    "from sklearn.metrics import confusion_matrix\n",
    "from promptmeteo import DocumentClassifier\n",
    "\n",
    "model = DocumentClassifier(\n",
    "    language             = 'es',\n",
    "    model_name           = 'gpt-3.5-turbo-instruct',\n",
    "    model_provider_name  = 'openai',\n",
    "    model_provider_token = token,\n",
    "    prompt_domain        = 'opiniones de productos',\n",
    "    prompt_labels        = ['positive','negative','neutral'],\n",
    "    selector_k           = 10,\n",
    ")\n",
    "\n",
    "model.task.prompt.read_prompt(prompt)\n",
    "\n",
    "model.train(\n",
    "    examples = train_reviews,\n",
    "    annotations = train_targets,\n",
    ")\n",
    "\n",
    "pred_targets = model.predict(test_reviews)\n",
    "pred_targets = [pred if len(pred)==1 else [''] for pred in pred_targets]\n",
    "\n",
    "sns.heatmap(\n",
    "    confusion_matrix(test_targets, pred_targets),\n",
    "    annot=True,\n",
    "    cmap='Blues')"
   ]
  },
  {
   "cell_type": "markdown",
   "id": "25261a04-f35a-4eef-8d57-1d5019bcd424",
   "metadata": {},
   "source": [
    "### Prueba 3"
   ]
  },
  {
   "cell_type": "code",
   "execution_count": null,
   "id": "74a71c53-6983-49d6-aac6-f2d0a2e88e2f",
   "metadata": {},
   "outputs": [],
   "source": [
    "prompt='''\n",
    "TEMPLATE:\n",
    "    \"Necesito que me ayudes en una tarea de clasificación de texto.\n",
    "    {__PROMPT_DOMAIN__}\n",
    "    {__PROMPT_LABELS__}\n",
    "\n",
    "    {__CHAIN_THOUGHT__}\n",
    "    {__ANSWER_FORMAT__}\"\n",
    "\n",
    "\n",
    "PROMPT_DOMAIN:\n",
    "    \"\"\n",
    "\n",
    "\n",
    "PROMPT_LABELS:\n",
    "    \"\"\n",
    "\n",
    "\n",
    "PROMPT_DETAIL:\n",
    "    \"\"\n",
    "\n",
    "\n",
    "CHAIN_THOUGHT:\n",
    "    \"\"\n",
    "\n",
    "\n",
    "ANSWER_FORMAT:\n",
    "    \"\"\n",
    "'''"
   ]
  },
  {
   "cell_type": "code",
   "execution_count": null,
   "id": "ea907475-c58a-4b77-904e-0a4f30d78ed4",
   "metadata": {},
   "outputs": [],
   "source": [
    "import seaborn as sns\n",
    "from sklearn.metrics import confusion_matrix\n",
    "from promptmeteo import DocumentClassifier\n",
    "\n",
    "model = DocumentClassifier(\n",
    "    language             = 'es',\n",
    "    model_name           = 'gpt-3.5-turbo-instruct',\n",
    "    model_provider_name  = 'openai',\n",
    "    model_provider_token = token,\n",
    "    prompt_domain        = 'opiniones de productos',\n",
    "    prompt_labels        = ['positive','negative','neutral'],\n",
    "    selector_k           = 20,\n",
    ")\n",
    "\n",
    "model.task.prompt.read_prompt(prompt)\n",
    "\n",
    "model.train(\n",
    "    examples = train_reviews,\n",
    "    annotations = train_targets,\n",
    ")\n",
    "\n",
    "pred_targets = model.predict(test_reviews)\n",
    "pred_targets = [pred if len(pred)==1 else [''] for pred in pred_targets]\n",
    "\n",
    "sns.heatmap(\n",
    "    confusion_matrix(test_targets, pred_targets),\n",
    "    annot=True,\n",
    "    cmap='Blues')"
   ]
  },
  {
   "cell_type": "markdown",
   "id": "572a6af8-112e-43d3-be26-79b100facd50",
   "metadata": {},
   "source": [
    "## Conclusiones"
   ]
  },
  {
   "cell_type": "markdown",
   "id": "f2070ce4-4ede-44be-9764-d3186d3e62dd",
   "metadata": {},
   "source": [
    "* Parece que con el modelo Flan-t5-small, el mejor resultado se obtiene añadiendo más ejemplot y quitando la instrucción del prompt\n",
    "\n",
    "* Parece que hay mucho errores asociados con que la respuesta tenga un espacio antes de laa respuesta"
   ]
  }
 ],
 "metadata": {
  "kernelspec": {
   "display_name": "Python 3 (ipykernel)",
   "language": "python",
   "name": "python3"
  },
  "language_info": {
   "codemirror_mode": {
    "name": "ipython",
    "version": 3
   },
   "file_extension": ".py",
   "mimetype": "text/x-python",
   "name": "python",
   "nbconvert_exporter": "python",
   "pygments_lexer": "ipython3",
   "version": "3.11.6"
  }
 },
 "nbformat": 4,
 "nbformat_minor": 5
}
