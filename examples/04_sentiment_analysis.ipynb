{
 "cells": [
  {
   "cell_type": "markdown",
   "id": "73d808a5-a4dd-4ec5-b4bc-438f1dd5596f",
   "metadata": {},
   "source": [
    "# Sentiment analysis."
   ]
  },
  {
   "cell_type": "markdown",
   "id": "7ffd3703-20b9-46b6-8ad3-502ec27d2e49",
   "metadata": {},
   "source": [
    "In this notebook we are going to use the **Amazon Review Dataset** to test Promptmeteo in the sentiment analysis task"
   ]
  },
  {
   "cell_type": "markdown",
   "id": "dad1d69f-59bf-4f34-9000-46e5851d99f6",
   "metadata": {},
   "source": [
    "## Data Preparation - Build sentiment dataset."
   ]
  },
  {
   "cell_type": "markdown",
   "id": "7993f034-cdd6-4424-b6d1-5917b0638583",
   "metadata": {},
   "source": [
    "The dataset contains reviews from Amazon in English collected between November 1, 2015 and November 1, 2019. Each record in the dataset contains the review text, the review title, the star rating, an anonymized reviewer ID, an anonymized product ID and the coarse-grained product category (e.g. ‘books’, ‘appliances’, etc.). The corpus is balanced across stars, so each star rating constitutes 20% of the reviews in each language."
   ]
  },
  {
   "cell_type": "code",
   "execution_count": 1,
   "id": "d2c9f56c-4717-42a8-b9d4-cfcc20215f99",
   "metadata": {},
   "outputs": [
    {
     "data": {
      "text/html": [
       "<div><style>\n",
       ".dataframe > thead > tr > th,\n",
       ".dataframe > tbody > tr > td {\n",
       "  text-align: right;\n",
       "}\n",
       "</style>\n",
       "<small>shape: (5, 8)</small><table border=\"1\" class=\"dataframe\"><thead><tr><th>review_id</th><th>product_id</th><th>reviewer_id</th><th>stars</th><th>review_body</th><th>review_title</th><th>language</th><th>product_category</th></tr><tr><td>str</td><td>str</td><td>str</td><td>i32</td><td>str</td><td>str</td><td>str</td><td>str</td></tr></thead><tbody><tr><td>&quot;en_0199937&quot;</td><td>&quot;product_en_090…</td><td>&quot;reviewer_en_00…</td><td>1</td><td>&quot;These are AWFU…</td><td>&quot;Don’t waste yo…</td><td>&quot;en&quot;</td><td>&quot;apparel&quot;</td></tr><tr><td>&quot;en_0863335&quot;</td><td>&quot;product_en_034…</td><td>&quot;reviewer_en_06…</td><td>1</td><td>&quot;I bought 4 and…</td><td>&quot;One Star&quot;</td><td>&quot;en&quot;</td><td>&quot;other&quot;</td></tr><tr><td>&quot;en_0565010&quot;</td><td>&quot;product_en_035…</td><td>&quot;reviewer_en_09…</td><td>1</td><td>&quot;On first use i…</td><td>&quot;Totally useles…</td><td>&quot;en&quot;</td><td>&quot;other&quot;</td></tr><tr><td>&quot;en_0963290&quot;</td><td>&quot;product_en_058…</td><td>&quot;reviewer_en_02…</td><td>1</td><td>&quot;You want an HO…</td><td>&quot;Gold filled ea…</td><td>&quot;en&quot;</td><td>&quot;jewelry&quot;</td></tr><tr><td>&quot;en_0238156&quot;</td><td>&quot;product_en_048…</td><td>&quot;reviewer_en_05…</td><td>1</td><td>&quot;The glue works…</td><td>&quot;Poor container…</td><td>&quot;en&quot;</td><td>&quot;industrial_sup…</td></tr></tbody></table></div>"
      ],
      "text/plain": [
       "shape: (5, 8)\n",
       "┌────────────┬─────────────┬─────────────┬───────┬────────────┬────────────┬──────────┬────────────┐\n",
       "│ review_id  ┆ product_id  ┆ reviewer_id ┆ stars ┆ review_bod ┆ review_tit ┆ language ┆ product_ca │\n",
       "│ ---        ┆ ---         ┆ ---         ┆ ---   ┆ y          ┆ le         ┆ ---      ┆ tegory     │\n",
       "│ str        ┆ str         ┆ str         ┆ i32   ┆ ---        ┆ ---        ┆ str      ┆ ---        │\n",
       "│            ┆             ┆             ┆       ┆ str        ┆ str        ┆          ┆ str        │\n",
       "╞════════════╪═════════════╪═════════════╪═══════╪════════════╪════════════╪══════════╪════════════╡\n",
       "│ en_0199937 ┆ product_en_ ┆ reviewer_en ┆ 1     ┆ These are  ┆ Don’t      ┆ en       ┆ apparel    │\n",
       "│            ┆ 0902516     ┆ _0097389    ┆       ┆ AWFUL.     ┆ waste your ┆          ┆            │\n",
       "│            ┆             ┆             ┆       ┆ They are   ┆ time!      ┆          ┆            │\n",
       "│            ┆             ┆             ┆       ┆ see th…    ┆            ┆          ┆            │\n",
       "│ en_0863335 ┆ product_en_ ┆ reviewer_en ┆ 1     ┆ I bought 4 ┆ One Star   ┆ en       ┆ other      │\n",
       "│            ┆ 0348072     ┆ _0601537    ┆       ┆ and NONE   ┆            ┆          ┆            │\n",
       "│            ┆             ┆             ┆       ┆ of them    ┆            ┆          ┆            │\n",
       "│            ┆             ┆             ┆       ┆ work…      ┆            ┆          ┆            │\n",
       "│ en_0565010 ┆ product_en_ ┆ reviewer_en ┆ 1     ┆ On first   ┆ Totally    ┆ en       ┆ other      │\n",
       "│            ┆ 0356154     ┆ _0970351    ┆       ┆ use it     ┆ useless    ┆          ┆            │\n",
       "│            ┆             ┆             ┆       ┆ didn't     ┆            ┆          ┆            │\n",
       "│            ┆             ┆             ┆       ┆ heat up a… ┆            ┆          ┆            │\n",
       "│ en_0963290 ┆ product_en_ ┆ reviewer_en ┆ 1     ┆ You want   ┆ Gold       ┆ en       ┆ jewelry    │\n",
       "│            ┆ 0583322     ┆ _0216125    ┆       ┆ an HONEST  ┆ filled     ┆          ┆            │\n",
       "│            ┆             ┆             ┆       ┆ answer? I  ┆ earrings   ┆          ┆            │\n",
       "│            ┆             ┆             ┆       ┆ jus…       ┆            ┆          ┆            │\n",
       "│ en_0238156 ┆ product_en_ ┆ reviewer_en ┆ 1     ┆ The glue   ┆ Poor       ┆ en       ┆ industrial │\n",
       "│            ┆ 0487636     ┆ _0514203    ┆       ┆ works fine ┆ container  ┆          ┆ _supplies  │\n",
       "│            ┆             ┆             ┆       ┆ but the    ┆            ┆          ┆            │\n",
       "│            ┆             ┆             ┆       ┆ cont…      ┆            ┆          ┆            │\n",
       "└────────────┴─────────────┴─────────────┴───────┴────────────┴────────────┴──────────┴────────────┘"
      ]
     },
     "execution_count": 1,
     "metadata": {},
     "output_type": "execute_result"
    }
   ],
   "source": [
    "import polars as pl\n",
    "\n",
    "data = pl.read_parquet('../data/amazon_reviews_en/amazon_reviews_multi-test.parquet')\n",
    "data.head()"
   ]
  },
  {
   "cell_type": "markdown",
   "id": "a02de0f5-b59b-4a85-9ed6-3012b577b076",
   "metadata": {},
   "source": [
    "For building a sentiment analysis dataset with the dataset we create the **target** using the variable `stars`. We supone that the reviews with low stars rate are related with negative sentiment and those with high starts rate are related with positive sentiment."
   ]
  },
  {
   "cell_type": "code",
   "execution_count": 2,
   "id": "f8749062-8904-4418-b966-3c9f248174ab",
   "metadata": {},
   "outputs": [
    {
     "data": {
      "text/html": [
       "<div><style>\n",
       ".dataframe > thead > tr > th,\n",
       ".dataframe > tbody > tr > td {\n",
       "  text-align: right;\n",
       "}\n",
       "</style>\n",
       "<small>shape: (5, 2)</small><table border=\"1\" class=\"dataframe\"><thead><tr><th>REVIEW</th><th>TARGET</th></tr><tr><td>str</td><td>str</td></tr></thead><tbody><tr><td>&quot;I reuse my Nes…</td><td>&quot;positive&quot;</td></tr><tr><td>&quot;Fits great kin…</td><td>&quot;positive&quot;</td></tr><tr><td>&quot;Movie freezes …</td><td>&quot;negative&quot;</td></tr><tr><td>&quot;This is my thi…</td><td>&quot;positive&quot;</td></tr><tr><td>&quot;For the money,…</td><td>&quot;neutral&quot;</td></tr></tbody></table></div>"
      ],
      "text/plain": [
       "shape: (5, 2)\n",
       "┌───────────────────────────────────┬──────────┐\n",
       "│ REVIEW                            ┆ TARGET   │\n",
       "│ ---                               ┆ ---      │\n",
       "│ str                               ┆ str      │\n",
       "╞═══════════════════════════════════╪══════════╡\n",
       "│ I reuse my Nespresso capsules an… ┆ positive │\n",
       "│ Fits great kinda expensive but i… ┆ positive │\n",
       "│ Movie freezes up. Can't watch it… ┆ negative │\n",
       "│ This is my third G-shock as I ha… ┆ positive │\n",
       "│ For the money, it's a good buy..… ┆ neutral  │\n",
       "└───────────────────────────────────┴──────────┘"
      ]
     },
     "execution_count": 2,
     "metadata": {},
     "output_type": "execute_result"
    }
   ],
   "source": [
    "sql = pl.SQLContext()\n",
    "sql.register('data', data)\n",
    "\n",
    "sentiment_data = sql.execute(\"\"\"\n",
    "    SELECT\n",
    "        review_body as REVIEW,\n",
    "        CASE\n",
    "            WHEN stars=1 THEN 'negative'\n",
    "            WHEN stars=3 THEN 'neutral'\n",
    "            WHEN stars=5 THEN 'positive'\n",
    "            ELSE null\n",
    "        END AS TARGET,\n",
    "    FROM data\n",
    "    WHERE stars!=2 AND stars!=4;\n",
    "    \"\"\").collect().sample(fraction=1.0, shuffle=True, seed=0)\n",
    "\n",
    "sentiment_data.head()"
   ]
  },
  {
   "cell_type": "markdown",
   "id": "a13acadc-92dc-48e9-a410-c9f9b65eccd6",
   "metadata": {},
   "source": [
    "## Classification with Promptmeteo"
   ]
  },
  {
   "cell_type": "markdown",
   "id": "5e9cd3e0-a12b-49a1-9bae-03647b14d666",
   "metadata": {},
   "source": [
    "### Build prompt for the task"
   ]
  },
  {
   "cell_type": "markdown",
   "id": "4caeb6fd-096c-46e3-96f6-2797adfbc465",
   "metadata": {},
   "source": [
    "Promptmeteo has a concreate prompt formatting following a YAML structure. This structure allows Promptmeteo to validate, and use different promtpting techniques according to the prompt and the task."
   ]
  },
  {
   "cell_type": "code",
   "execution_count": 3,
   "id": "cc83594b-536b-4168-8f01-3be640512cb7",
   "metadata": {},
   "outputs": [],
   "source": [
    "sentiment_prompt = '''\n",
    "TEMPLATE:\n",
    "    \"\n",
    "    Your task is to classify a text in categories:\n",
    "    {__LABELS__}\n",
    "\n",
    "    {__TASK_INFO__}\n",
    "\n",
    "    {__ANSWER_FORMAT__}\n",
    "\n",
    "    {__CHAIN_OF_THOUGHTS__}\n",
    "    \"\n",
    "\n",
    "LABELS:\n",
    "    [\"positive\", \"negative\", \"neutral\"]\n",
    "\n",
    "TASK_INFO:\n",
    "    \"The text is a sentence written by a human and you have to classify\n",
    "    it in according to its sentiment.\"\n",
    "\n",
    "ANSWER_FORMAT:\n",
    "    \"Your answer must include the name of the category in a unique word\n",
    "    in lower case and without puntuation.\"\n",
    "\n",
    "CHAIN_OF_THOUGHTS:\n",
    "    \"Please explain your answer step by step before saying the name of\n",
    "    the category\"\n",
    "'''"
   ]
  },
  {
   "cell_type": "code",
   "execution_count": 4,
   "id": "4d108b48-3e3e-4f8f-bea1-1533af961134",
   "metadata": {},
   "outputs": [],
   "source": [
    "import sys; sys.path.append('..')\n",
    "from promptmeteo import Promptmeteo\n",
    "\n",
    "model = Promptmeteo(\n",
    "    task_type            = 'classification',\n",
    "    model_name           = 'text-davinci-003',\n",
    "    model_provider_name  = 'openai',\n",
    "    model_provider_token = 'sk-xxxxxxxxxxxxxxxxxxxxxxxxxxxxxxxxxxxxxxxxxxxxxxxx'  #OPENAI TOKEN\n",
    ").read_prompt_file(sentiment_prompt)"
   ]
  },
  {
   "cell_type": "markdown",
   "id": "16d13d14-efee-4d8f-a6ee-554924554aa1",
   "metadata": {},
   "source": [
    "### Train the model"
   ]
  },
  {
   "cell_type": "markdown",
   "id": "da76d7b2-5566-4f25-81ba-0c219fd58a9a",
   "metadata": {},
   "source": [
    "The training process create a vector database in memory with **FAISS**, the main advantage of using this king of vector database is that it is serializable to a file and be stored in disk, which allows us to save the vectors training process as a model artifact"
   ]
  },
  {
   "cell_type": "code",
   "execution_count": 5,
   "id": "f4b4e6dd-43cc-454e-9130-a80ec2cefdf4",
   "metadata": {},
   "outputs": [],
   "source": [
    "train_reviews = sentiment_data.head(100).select('REVIEW').to_series().to_list()\n",
    "train_targets = sentiment_data.head(100).select('TARGET').to_series().to_list()\n",
    "\n",
    "model = model.train(\n",
    "    examples = train_reviews,\n",
    "    annotations = train_targets\n",
    ")"
   ]
  },
  {
   "cell_type": "markdown",
   "id": "96734f78-4c5d-42ee-a831-c541fc96f3a7",
   "metadata": {},
   "source": [
    "### Predict new data"
   ]
  },
  {
   "cell_type": "code",
   "execution_count": 6,
   "id": "4338d842-1606-4b88-9485-ac0d1e3210d3",
   "metadata": {},
   "outputs": [
    {
     "data": {
      "text/plain": [
       "<Axes: >"
      ]
     },
     "execution_count": 6,
     "metadata": {},
     "output_type": "execute_result"
    },
    {
     "data": {
      "image/png": "[encoded data removed]",
      "text/plain": [
       "<Figure size 640x480 with 2 Axes>"
      ]
     },
     "metadata": {},
     "output_type": "display_data"
    }
   ],
   "source": [
    "import seaborn as sns\n",
    "from sklearn.metrics import confusion_matrix\n",
    "\n",
    "test_reviews = sentiment_data.head(100).select('REVIEW').to_series().to_list()\n",
    "test_targets = sentiment_data.head(100).select('TARGET').to_series().to_list()\n",
    "\n",
    "pred_targets = model.predict(test_reviews)\n",
    "\n",
    "sns.heatmap(confusion_matrix(test_targets, pred_targets), annot=True, cmap='Blues')"
   ]
  }
 ],
 "metadata": {
  "kernelspec": {
   "display_name": "Python 3 (ipykernel)",
   "language": "python",
   "name": "python3"
  },
  "language_info": {
   "codemirror_mode": {
    "name": "ipython",
    "version": 3
   },
   "file_extension": ".py",
   "mimetype": "text/x-python",
   "name": "python",
   "nbconvert_exporter": "python",
   "pygments_lexer": "ipython3",
   "version": "3.10.11"
  }
 },
 "nbformat": 4,
 "nbformat_minor": 5
}
